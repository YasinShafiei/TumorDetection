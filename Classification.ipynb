{
 "cells": [
  {
   "cell_type": "markdown",
   "id": "576a0bcf",
   "metadata": {},
   "source": [
    "# Brain Tumor classification\n",
    "## Using deep learning"
   ]
  },
  {
   "cell_type": "markdown",
   "id": "2f285a1c",
   "metadata": {},
   "source": [
    "Detect if there is a Tumor in a brain scan."
   ]
  },
  {
   "cell_type": "markdown",
   "id": "8182b120",
   "metadata": {},
   "source": [
    "### Import libraries define vars"
   ]
  },
  {
   "cell_type": "code",
   "execution_count": 1,
   "id": "e5f7f085",
   "metadata": {},
   "outputs": [],
   "source": [
    "# import all libraries\n",
    "import tensorflow as tf\n",
    "from keras.layers import *\n",
    "from keras.models import Sequential\n",
    "import numpy as np\n",
    "import matplotlib.pyplot as plt\n",
    "from tensorflow.keras.preprocessing import image\n",
    "from tensorflow.keras.utils import img_to_array"
   ]
  },
  {
   "cell_type": "code",
   "execution_count": 2,
   "id": "efaab6a1",
   "metadata": {},
   "outputs": [],
   "source": [
    "# define variables nd hyperparameters\n",
    "EPOCHS = 35\n",
    "BATCH_SIZE = 16\n",
    "IMAGE_HEIGHT = 120\n",
    "IMAGE_WIDTH = 120\n",
    "NUM_CLASSES = 2\n",
    "DATA_PATH = \"data/\""
   ]
  },
  {
   "cell_type": "markdown",
   "id": "bfaf7708",
   "metadata": {},
   "source": [
    "### Create dataset"
   ]
  },
  {
   "cell_type": "code",
   "execution_count": 3,
   "id": "78a0b526",
   "metadata": {},
   "outputs": [
    {
     "name": "stdout",
     "output_type": "stream",
     "text": [
      "Found 253 files belonging to 2 classes.\n",
      "Using 228 files for training.\n"
     ]
    }
   ],
   "source": [
    "# Create the train dataset\n",
    "train_ds = tf.keras.preprocessing.image_dataset_from_directory(DATA_PATH,\n",
    "                                                              labels=\"inferred\",\n",
    "                                                              label_mode=\"int\",\n",
    "                                                              color_mode=\"rgb\",\n",
    "                                                              batch_size=BATCH_SIZE,\n",
    "                                                              image_size=(IMAGE_HEIGHT, IMAGE_WIDTH),\n",
    "                                                              shuffle=True,\n",
    "                                                              seed=123,\n",
    "                                                              validation_split=0.1,\n",
    "                                                              subset=\"training\")"
   ]
  },
  {
   "cell_type": "code",
   "execution_count": 4,
   "id": "bf88066d",
   "metadata": {},
   "outputs": [
    {
     "name": "stdout",
     "output_type": "stream",
     "text": [
      "Found 253 files belonging to 2 classes.\n",
      "Using 25 files for validation.\n"
     ]
    }
   ],
   "source": [
    "# create the validation dataset \n",
    "validation_ds = tf.keras.preprocessing.image_dataset_from_directory(DATA_PATH,\n",
    "                                                                   labels=\"inferred\",\n",
    "                                                                   label_mode=\"int\",\n",
    "                                                                   color_mode=\"rgb\",\n",
    "                                                                   batch_size=BATCH_SIZE,\n",
    "                                                                   image_size=(IMAGE_HEIGHT, IMAGE_WIDTH),\n",
    "                                                                   shuffle=True,\n",
    "                                                                   seed=123,\n",
    "                                                                   validation_split=0.1,\n",
    "                                                                   subset=\"validation\")"
   ]
  },
  {
   "cell_type": "markdown",
   "id": "6eaa0772",
   "metadata": {},
   "source": [
    "### Preprocessing"
   ]
  },
  {
   "cell_type": "code",
   "execution_count": 5,
   "id": "3b56487d",
   "metadata": {},
   "outputs": [],
   "source": [
    "def augmentation(X, y):\n",
    "    \"\"\"\n",
    "    This function will augment the data\n",
    "    \"\"\"\n",
    "    image = tf.image.random_brightness(X, max_delta=0.05)    \n",
    "    \n",
    "    return image, y"
   ]
  },
  {
   "cell_type": "code",
   "execution_count": 6,
   "id": "2a6f2549",
   "metadata": {},
   "outputs": [],
   "source": [
    "# apply the augmentation\n",
    "train_ds = train_ds.map(augmentation)\n",
    "validation_ds = validation_ds.map(augmentation)"
   ]
  },
  {
   "cell_type": "markdown",
   "id": "97aac4f6",
   "metadata": {},
   "source": [
    "### Neural Networks"
   ]
  },
  {
   "cell_type": "code",
   "execution_count": 10,
   "id": "7c3c990c",
   "metadata": {},
   "outputs": [],
   "source": [
    "# define the model\n",
    "model = Sequential()\n",
    "\n",
    "# input Conv layer\n",
    "model.add(Conv2D(16, kernel_size=(3, 3), padding=\"same\", input_shape=(120, 120, 3), activation=\"relu\"))\n",
    "\n",
    "# Conv and MaxPooling layers\n",
    "model.add(Conv2D(32, kernel_size=(3, 3), padding=\"same\", activation=\"relu\"))\n",
    "model.add(MaxPooling2D((2, 2)))\n",
    "\n",
    "model.add(Conv2D(64, kernel_size=(3, 3), padding=\"same\", activation=\"relu\"))\n",
    "model.add(MaxPooling2D((2, 2)))\n",
    "\n",
    "\n",
    "# Flatten\n",
    "model.add(Flatten())\n",
    "\n",
    "# Dense layers\n",
    "model.add(Dense(256, activation=\"relu\"))\n",
    "model.add(Dense(256, activation=\"relu\"))\n",
    "\n",
    "# Dropout layer\n",
    "model.add(Dropout(0.1))\n",
    "\n",
    "# Output layer\n",
    "model.add(Dense(NUM_CLASSES, activation=\"softmax\"))"
   ]
  },
  {
   "cell_type": "code",
   "execution_count": 11,
   "id": "5b4743d4",
   "metadata": {},
   "outputs": [],
   "source": [
    "# Compile the model\n",
    "model.compile(optimizer=\"adam\", loss=\"sparse_categorical_crossentropy\", metrics=[\"accuracy\"])"
   ]
  },
  {
   "cell_type": "code",
   "execution_count": 12,
   "id": "013b7ace",
   "metadata": {},
   "outputs": [
    {
     "name": "stdout",
     "output_type": "stream",
     "text": [
      "Model: \"sequential_1\"\n",
      "_________________________________________________________________\n",
      " Layer (type)                Output Shape              Param #   \n",
      "=================================================================\n",
      " conv2d_3 (Conv2D)           (None, 120, 120, 16)      448       \n",
      "                                                                 \n",
      " conv2d_4 (Conv2D)           (None, 120, 120, 32)      4640      \n",
      "                                                                 \n",
      " max_pooling2d_2 (MaxPooling  (None, 60, 60, 32)       0         \n",
      " 2D)                                                             \n",
      "                                                                 \n",
      " conv2d_5 (Conv2D)           (None, 60, 60, 64)        18496     \n",
      "                                                                 \n",
      " max_pooling2d_3 (MaxPooling  (None, 30, 30, 64)       0         \n",
      " 2D)                                                             \n",
      "                                                                 \n",
      " flatten_1 (Flatten)         (None, 57600)             0         \n",
      "                                                                 \n",
      " dense_2 (Dense)             (None, 256)               14745856  \n",
      "                                                                 \n",
      " dense_3 (Dense)             (None, 256)               65792     \n",
      "                                                                 \n",
      " dropout_1 (Dropout)         (None, 256)               0         \n",
      "                                                                 \n",
      " dense_4 (Dense)             (None, 2)                 514       \n",
      "                                                                 \n",
      "=================================================================\n",
      "Total params: 14,835,746\n",
      "Trainable params: 14,835,746\n",
      "Non-trainable params: 0\n",
      "_________________________________________________________________\n"
     ]
    }
   ],
   "source": [
    "# Model's summary\n",
    "model.summary()"
   ]
  },
  {
   "cell_type": "code",
   "execution_count": 13,
   "id": "43ec27f1",
   "metadata": {
    "scrolled": false
   },
   "outputs": [
    {
     "name": "stdout",
     "output_type": "stream",
     "text": [
      "Epoch 1/35\n",
      "15/15 [==============================] - 3s 46ms/step - loss: 50.0484 - accuracy: 0.6096 - val_loss: 1.3615 - val_accuracy: 0.8000\n",
      "Epoch 2/35\n",
      "15/15 [==============================] - 0s 23ms/step - loss: 0.6671 - accuracy: 0.7763 - val_loss: 0.3051 - val_accuracy: 0.8400\n",
      "Epoch 3/35\n",
      "15/15 [==============================] - 0s 23ms/step - loss: 0.2162 - accuracy: 0.9167 - val_loss: 0.2432 - val_accuracy: 0.9200\n",
      "Epoch 4/35\n",
      "15/15 [==============================] - 0s 21ms/step - loss: 0.0902 - accuracy: 0.9693 - val_loss: 0.1987 - val_accuracy: 0.9200\n",
      "Epoch 5/35\n",
      "15/15 [==============================] - 0s 19ms/step - loss: 0.0266 - accuracy: 0.9912 - val_loss: 0.2128 - val_accuracy: 0.9200\n",
      "Epoch 6/35\n",
      "15/15 [==============================] - 0s 17ms/step - loss: 0.0112 - accuracy: 0.9956 - val_loss: 0.1341 - val_accuracy: 0.9600\n",
      "Epoch 7/35\n",
      "15/15 [==============================] - 0s 18ms/step - loss: 0.0044 - accuracy: 1.0000 - val_loss: 0.1693 - val_accuracy: 0.9600\n",
      "Epoch 8/35\n",
      "15/15 [==============================] - 0s 18ms/step - loss: 0.0015 - accuracy: 1.0000 - val_loss: 0.2264 - val_accuracy: 0.9600\n",
      "Epoch 9/35\n",
      "15/15 [==============================] - 0s 18ms/step - loss: 2.6296e-04 - accuracy: 1.0000 - val_loss: 0.2646 - val_accuracy: 0.9600\n",
      "Epoch 10/35\n",
      "15/15 [==============================] - 0s 17ms/step - loss: 1.0618e-04 - accuracy: 1.0000 - val_loss: 0.2525 - val_accuracy: 0.9200\n",
      "Epoch 11/35\n",
      "15/15 [==============================] - 0s 17ms/step - loss: 9.5855e-05 - accuracy: 1.0000 - val_loss: 0.2894 - val_accuracy: 0.9200\n",
      "Epoch 12/35\n",
      "15/15 [==============================] - 0s 17ms/step - loss: 3.1551e-05 - accuracy: 1.0000 - val_loss: 0.2945 - val_accuracy: 0.9200\n",
      "Epoch 13/35\n",
      "15/15 [==============================] - 0s 17ms/step - loss: 5.0872e-05 - accuracy: 1.0000 - val_loss: 0.2914 - val_accuracy: 0.9200\n",
      "Epoch 14/35\n",
      "15/15 [==============================] - 0s 18ms/step - loss: 5.0842e-05 - accuracy: 1.0000 - val_loss: 0.3203 - val_accuracy: 0.9200\n",
      "Epoch 15/35\n",
      "15/15 [==============================] - 0s 17ms/step - loss: 1.5736e-05 - accuracy: 1.0000 - val_loss: 0.3333 - val_accuracy: 0.9200\n",
      "Epoch 16/35\n",
      "15/15 [==============================] - 0s 18ms/step - loss: 2.1627e-05 - accuracy: 1.0000 - val_loss: 0.3431 - val_accuracy: 0.9200\n",
      "Epoch 17/35\n",
      "15/15 [==============================] - 0s 18ms/step - loss: 1.4065e-04 - accuracy: 1.0000 - val_loss: 0.4018 - val_accuracy: 0.9200\n",
      "Epoch 18/35\n",
      "15/15 [==============================] - 0s 17ms/step - loss: 1.1660e-05 - accuracy: 1.0000 - val_loss: 0.4909 - val_accuracy: 0.9200\n",
      "Epoch 19/35\n",
      "15/15 [==============================] - 0s 18ms/step - loss: 8.8183e-06 - accuracy: 1.0000 - val_loss: 0.4808 - val_accuracy: 0.9200\n",
      "Epoch 20/35\n",
      "15/15 [==============================] - 0s 19ms/step - loss: 4.4659e-06 - accuracy: 1.0000 - val_loss: 0.4581 - val_accuracy: 0.9200\n",
      "Epoch 21/35\n",
      "15/15 [==============================] - 0s 16ms/step - loss: 6.9460e-06 - accuracy: 1.0000 - val_loss: 0.4705 - val_accuracy: 0.9200\n",
      "Epoch 22/35\n",
      "15/15 [==============================] - 0s 17ms/step - loss: 2.9253e-06 - accuracy: 1.0000 - val_loss: 0.4819 - val_accuracy: 0.9200\n",
      "Epoch 23/35\n",
      "15/15 [==============================] - 0s 18ms/step - loss: 1.2525e-05 - accuracy: 1.0000 - val_loss: 0.4654 - val_accuracy: 0.9200\n",
      "Epoch 24/35\n",
      "15/15 [==============================] - 0s 17ms/step - loss: 4.8376e-06 - accuracy: 1.0000 - val_loss: 0.4714 - val_accuracy: 0.9200\n",
      "Epoch 25/35\n",
      "15/15 [==============================] - 0s 18ms/step - loss: 6.6480e-06 - accuracy: 1.0000 - val_loss: 0.5292 - val_accuracy: 0.9200\n",
      "Epoch 26/35\n",
      "15/15 [==============================] - 0s 19ms/step - loss: 8.8159e-06 - accuracy: 1.0000 - val_loss: 0.5757 - val_accuracy: 0.9200\n",
      "Epoch 27/35\n",
      "15/15 [==============================] - 0s 18ms/step - loss: 2.6701e-06 - accuracy: 1.0000 - val_loss: 0.5768 - val_accuracy: 0.9200\n",
      "Epoch 28/35\n",
      "15/15 [==============================] - 0s 17ms/step - loss: 4.4240e-06 - accuracy: 1.0000 - val_loss: 0.5335 - val_accuracy: 0.9200\n",
      "Epoch 29/35\n",
      "15/15 [==============================] - 0s 18ms/step - loss: 1.8995e-06 - accuracy: 1.0000 - val_loss: 0.5198 - val_accuracy: 0.9200\n",
      "Epoch 30/35\n",
      "15/15 [==============================] - 0s 17ms/step - loss: 2.8932e-06 - accuracy: 1.0000 - val_loss: 0.5512 - val_accuracy: 0.9200\n",
      "Epoch 31/35\n",
      "15/15 [==============================] - 0s 18ms/step - loss: 1.5037e-06 - accuracy: 1.0000 - val_loss: 0.5267 - val_accuracy: 0.9200\n",
      "Epoch 32/35\n",
      "15/15 [==============================] - 0s 18ms/step - loss: 3.2429e-06 - accuracy: 1.0000 - val_loss: 0.5652 - val_accuracy: 0.9200\n",
      "Epoch 33/35\n",
      "15/15 [==============================] - 0s 18ms/step - loss: 1.1199e-06 - accuracy: 1.0000 - val_loss: 0.5674 - val_accuracy: 0.9200\n",
      "Epoch 34/35\n",
      "15/15 [==============================] - 0s 17ms/step - loss: 1.0080e-06 - accuracy: 1.0000 - val_loss: 0.5699 - val_accuracy: 0.9200\n",
      "Epoch 35/35\n",
      "15/15 [==============================] - 0s 17ms/step - loss: 1.3787e-06 - accuracy: 1.0000 - val_loss: 0.5755 - val_accuracy: 0.9200\n"
     ]
    }
   ],
   "source": [
    "# Train the model\n",
    "history = model.fit(train_ds, validation_data=validation_ds, epochs=EPOCHS)"
   ]
  },
  {
   "cell_type": "code",
   "execution_count": 25,
   "id": "13e1f8fe",
   "metadata": {},
   "outputs": [
    {
     "data": {
      "image/png": "[encoded data removed]",
      "text/plain": [
       "<Figure size 576x576 with 1 Axes>"
      ]
     },
     "metadata": {
      "needs_background": "light"
     },
     "output_type": "display_data"
    }
   ],
   "source": [
    "# get the model accuracy and loss\n",
    "accuracy = history.history[\"accuracy\"]\n",
    "# define epochs range\n",
    "epochs_range = range(EPOCHS)\n",
    "\n",
    "\n",
    "# define the figure size\n",
    "plt.figure(figsize=(8, 8))\n",
    "plt.plot(epochs_range, accuracy, label=\"Training Accuracy\")\n",
    "# title \n",
    "plt.title(\"Training accuracy\")\n",
    "\n",
    "# show\n",
    "plt.show()"
   ]
  },
  {
   "cell_type": "code",
   "execution_count": 27,
   "id": "568b1108",
   "metadata": {},
   "outputs": [
    {
     "data": {
      "image/png": "[encoded data removed]",
      "text/plain": [
       "<Figure size 576x576 with 1 Axes>"
      ]
     },
     "metadata": {
      "needs_background": "light"
     },
     "output_type": "display_data"
    }
   ],
   "source": [
    "# get the model loss\n",
    "loss = history.history[\"loss\"]\n",
    "# define epochs range\n",
    "epochs_range = range(EPOCHS)\n",
    "\n",
    "\n",
    "# define the figure size\n",
    "plt.figure(figsize=(8, 8))\n",
    "plt.plot(epochs_range, loss, label=\"Training loss\")\n",
    "# title \n",
    "plt.title(\"Training loss\")\n",
    "\n",
    "# show\n",
    "plt.show()"
   ]
  },
  {
   "cell_type": "code",
   "execution_count": 15,
   "id": "f7ad82cd",
   "metadata": {},
   "outputs": [],
   "source": [
    "# save the model\n",
    "model.save(\"model.h5\")"
   ]
  },
  {
   "cell_type": "markdown",
   "id": "0645dbab",
   "metadata": {},
   "source": [
    "### Load and use the model"
   ]
  },
  {
   "cell_type": "code",
   "execution_count": 16,
   "id": "c1bc9e0c",
   "metadata": {},
   "outputs": [],
   "source": [
    "def predict(model, img_path):\n",
    "    \"\"\"\n",
    "    This function will make model to do some predictions\n",
    "    \"\"\"\n",
    "    # load and process the image\n",
    "    img = image.load_img(img_path, target_size=(IMAGE_HEIGHT, IMAGE_WIDTH))\n",
    "    img = img_to_array(img)\n",
    "    img = np.expand_dims(img, axis=0)\n",
    "    \n",
    "    # define the label map\n",
    "    label_map = {\n",
    "        0 : \"No Tumor detected!\",\n",
    "        1 : \"Tumor detected!\"\n",
    "    }\n",
    "    \n",
    "    # make prediction\n",
    "    output = np.argmax(model.predict(img))\n",
    "    prediction = label_map[output]\n",
    "    \n",
    "    return prediction"
   ]
  },
  {
   "cell_type": "code",
   "execution_count": 17,
   "id": "2e4a8840",
   "metadata": {},
   "outputs": [],
   "source": [
    "# load model\n",
    "model = tf.keras.models.load_model(\"model.h5\")"
   ]
  },
  {
   "cell_type": "code",
   "execution_count": 18,
   "id": "0cbdf3e5",
   "metadata": {},
   "outputs": [
    {
     "name": "stdout",
     "output_type": "stream",
     "text": [
      "1/1 [==============================] - 0s 141ms/step\n",
      "Tumor detected!\n"
     ]
    }
   ],
   "source": [
    "img = \"test samples/tumor1.png\"\n",
    "predict_image = predict(model, img)\n",
    "print(predict_image)"
   ]
  },
  {
   "cell_type": "code",
   "execution_count": 19,
   "id": "a935af80",
   "metadata": {},
   "outputs": [
    {
     "name": "stdout",
     "output_type": "stream",
     "text": [
      "1/1 [==============================] - 0s 9ms/step\n",
      "Tumor detected!\n"
     ]
    }
   ],
   "source": [
    "img = \"test samples/tumor2.jpg\"\n",
    "predict_image = predict(model, img)\n",
    "print(predict_image)"
   ]
  },
  {
   "cell_type": "code",
   "execution_count": 20,
   "id": "2687f710",
   "metadata": {},
   "outputs": [
    {
     "name": "stdout",
     "output_type": "stream",
     "text": [
      "1/1 [==============================] - 0s 16ms/step\n",
      "No Tumor detected!\n"
     ]
    }
   ],
   "source": [
    "img = \"test samples/No tumor.jpg\"\n",
    "predict_image = predict(model, img)\n",
    "print(predict_image)"
   ]
  },
  {
   "cell_type": "code",
   "execution_count": 21,
   "id": "30159dec",
   "metadata": {},
   "outputs": [
    {
     "name": "stdout",
     "output_type": "stream",
     "text": [
      "1/1 [==============================] - 0s 13ms/step\n",
      "No Tumor detected!\n"
     ]
    }
   ],
   "source": [
    "img = \"test samples/No tumor2.jpg\"\n",
    "predict_image = predict(model, img)\n",
    "print(predict_image)"
   ]
  },
  {
   "cell_type": "code",
   "execution_count": null,
   "id": "0cc1e21a",
   "metadata": {},
   "outputs": [],
   "source": []
  }
 ],
 "metadata": {
  "kernelspec": {
   "display_name": "Python 3 (ipykernel)",
   "language": "python",
   "name": "python3"
  },
  "language_info": {
   "codemirror_mode": {
    "name": "ipython",
    "version": 3
   },
   "file_extension": ".py",
   "mimetype": "text/x-python",
   "name": "python",
   "nbconvert_exporter": "python",
   "pygments_lexer": "ipython3",
   "version": "3.10.5"
  }
 },
 "nbformat": 4,
 "nbformat_minor": 5
}
