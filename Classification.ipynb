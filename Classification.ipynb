{
 "cells": [
  {
   "cell_type": "markdown",
   "id": "86320fcc",
   "metadata": {},
   "source": [
    "# Brain Tumor classification\n",
    "## Using deep learning"
   ]
  },
  {
   "cell_type": "markdown",
   "id": "cd731df8",
   "metadata": {},
   "source": [
    "Detect if there is a Tumor in a brain scan."
   ]
  },
  {
   "cell_type": "markdown",
   "id": "8719668a",
   "metadata": {},
   "source": [
    "### Import libraries define vars"
   ]
  },
  {
   "cell_type": "code",
   "execution_count": 79,
   "id": "26859f34",
   "metadata": {},
   "outputs": [],
   "source": [
    "# import all libraries\n",
    "import tensorflow as tf\n",
    "from keras.layers import *\n",
    "from keras.models import Sequential\n",
    "import numpy as np\n",
    "import matplotlib.pyplot as plt\n",
    "from tensorflow.keras.preprocessing import image\n",
    "from tensorflow.keras.utils import img_to_array"
   ]
  },
  {
   "cell_type": "code",
   "execution_count": 63,
   "id": "b98e28c8",
   "metadata": {},
   "outputs": [],
   "source": [
    "# define variables nd hyperparameters\n",
    "EPOCHS = 35\n",
    "BATCH_SIZE = 16\n",
    "IMAGE_HEIGHT = 120\n",
    "IMAGE_WIDTH = 120\n",
    "NUM_CLASSES = 2\n",
    "DATA_PATH = \"data/\""
   ]
  },
  {
   "cell_type": "markdown",
   "id": "e7ee8604",
   "metadata": {},
   "source": [
    "### Create dataset"
   ]
  },
  {
   "cell_type": "code",
   "execution_count": 87,
   "id": "eb7df760",
   "metadata": {},
   "outputs": [
    {
     "name": "stdout",
     "output_type": "stream",
     "text": [
      "Found 253 files belonging to 2 classes.\n",
      "Using 228 files for training.\n"
     ]
    }
   ],
   "source": [
    "# Create the train dataset\n",
    "train_ds = tf.keras.preprocessing.image_dataset_from_directory(DATA_PATH,\n",
    "                                                              labels=\"inferred\",\n",
    "                                                              label_mode=\"int\",\n",
    "                                                              color_mode=\"rgb\",\n",
    "                                                              batch_size=BATCH_SIZE,\n",
    "                                                              image_size=(IMAGE_HEIGHT, IMAGE_WIDTH),\n",
    "                                                              shuffle=True,\n",
    "                                                              seed=123,\n",
    "                                                              validation_split=0.1,\n",
    "                                                              subset=\"training\")"
   ]
  },
  {
   "cell_type": "code",
   "execution_count": 88,
   "id": "c4f870e3",
   "metadata": {},
   "outputs": [
    {
     "name": "stdout",
     "output_type": "stream",
     "text": [
      "Found 253 files belonging to 2 classes.\n",
      "Using 25 files for validation.\n"
     ]
    }
   ],
   "source": [
    "# create the validation dataset \n",
    "validation_ds = tf.keras.preprocessing.image_dataset_from_directory(DATA_PATH,\n",
    "                                                                   labels=\"inferred\",\n",
    "                                                                   label_mode=\"int\",\n",
    "                                                                   color_mode=\"rgb\",\n",
    "                                                                   batch_size=BATCH_SIZE,\n",
    "                                                                   image_size=(IMAGE_HEIGHT, IMAGE_WIDTH),\n",
    "                                                                   shuffle=True,\n",
    "                                                                   seed=123,\n",
    "                                                                   validation_split=0.1,\n",
    "                                                                   subset=\"validation\")"
   ]
  },
  {
   "cell_type": "markdown",
   "id": "0b014fea",
   "metadata": {},
   "source": [
    "### Preprocessing"
   ]
  },
  {
   "cell_type": "code",
   "execution_count": 89,
   "id": "33f94536",
   "metadata": {},
   "outputs": [],
   "source": [
    "def augmentation(X, y):\n",
    "    \"\"\"\n",
    "    This function will augment the data\n",
    "    \"\"\"\n",
    "    image = tf.image.random_brightness(X, max_delta=0.05)    \n",
    "    \n",
    "    return image, y"
   ]
  },
  {
   "cell_type": "code",
   "execution_count": 90,
   "id": "0edec6aa",
   "metadata": {},
   "outputs": [],
   "source": [
    "# apply the augmentation\n",
    "train_ds = train_ds.map(augmentation)\n",
    "validation_ds = validation_ds.map(augmentation)"
   ]
  },
  {
   "cell_type": "markdown",
   "id": "d7b4f818",
   "metadata": {},
   "source": [
    "### Neural Networks"
   ]
  },
  {
   "cell_type": "code",
   "execution_count": 91,
   "id": "5ae5f476",
   "metadata": {},
   "outputs": [],
   "source": [
    "# define the model\n",
    "model = Sequential()\n",
    "\n",
    "# input Conv layer\n",
    "model.add(Conv2D(16, kernel_size=(3, 3), padding=\"same\", input_shape=(120, 120, 3), activation=\"relu\"))\n",
    "\n",
    "# Conv and MaxPooling layers\n",
    "model.add(Conv2D(32, kernel_size=(3, 3), padding=\"same\", activation=\"relu\"))\n",
    "model.add(MaxPooling2D((2, 2)))\n",
    "\n",
    "model.add(Conv2D(64, kernel_size=(3, 3), padding=\"same\", activation=\"relu\"))\n",
    "model.add(MaxPooling2D((2, 2)))\n",
    "\n",
    "\n",
    "# Flatten\n",
    "model.add(Flatten())\n",
    "\n",
    "# Dense layers\n",
    "model.add(Dense(256, activation=\"relu\"))\n",
    "model.add(Dense(256, activation=\"relu\"))\n",
    "\n",
    "# Dropout layer\n",
    "model.add(Dropout(0.1))\n",
    "\n",
    "# Output layer\n",
    "model.add(Dense(NUM_CLASSES, activation=\"softmax\"))"
   ]
  },
  {
   "cell_type": "code",
   "execution_count": 92,
   "id": "8e8665f7",
   "metadata": {},
   "outputs": [],
   "source": [
    "# Compile the model\n",
    "model.compile(optimizer=\"adam\", loss=\"sparse_categorical_crossentropy\", metrics=[\"accuracy\"])"
   ]
  },
  {
   "cell_type": "code",
   "execution_count": 93,
   "id": "cc145af9",
   "metadata": {},
   "outputs": [
    {
     "name": "stdout",
     "output_type": "stream",
     "text": [
      "Model: \"sequential_11\"\n",
      "_________________________________________________________________\n",
      " Layer (type)                Output Shape              Param #   \n",
      "=================================================================\n",
      " conv2d_40 (Conv2D)          (None, 120, 120, 16)      448       \n",
      "                                                                 \n",
      " conv2d_41 (Conv2D)          (None, 120, 120, 32)      4640      \n",
      "                                                                 \n",
      " max_pooling2d_28 (MaxPoolin  (None, 60, 60, 32)       0         \n",
      " g2D)                                                            \n",
      "                                                                 \n",
      " conv2d_42 (Conv2D)          (None, 60, 60, 64)        18496     \n",
      "                                                                 \n",
      " max_pooling2d_29 (MaxPoolin  (None, 30, 30, 64)       0         \n",
      " g2D)                                                            \n",
      "                                                                 \n",
      " flatten_10 (Flatten)        (None, 57600)             0         \n",
      "                                                                 \n",
      " dense_30 (Dense)            (None, 256)               14745856  \n",
      "                                                                 \n",
      " dense_31 (Dense)            (None, 256)               65792     \n",
      "                                                                 \n",
      " dropout_10 (Dropout)        (None, 256)               0         \n",
      "                                                                 \n",
      " dense_32 (Dense)            (None, 2)                 514       \n",
      "                                                                 \n",
      "=================================================================\n",
      "Total params: 14,835,746\n",
      "Trainable params: 14,835,746\n",
      "Non-trainable params: 0\n",
      "_________________________________________________________________\n"
     ]
    }
   ],
   "source": [
    "# Model's summary\n",
    "model.summary()"
   ]
  },
  {
   "cell_type": "code",
   "execution_count": 94,
   "id": "ee9ec590",
   "metadata": {
    "scrolled": false
   },
   "outputs": [
    {
     "name": "stdout",
     "output_type": "stream",
     "text": [
      "Epoch 1/35\n",
      "15/15 [==============================] - 2s 128ms/step - loss: 66.8336 - accuracy: 0.6711 - val_loss: 1.5632 - val_accuracy: 0.8400\n",
      "Epoch 2/35\n",
      "15/15 [==============================] - 1s 91ms/step - loss: 1.1160 - accuracy: 0.7325 - val_loss: 0.5578 - val_accuracy: 0.8000\n",
      "Epoch 3/35\n",
      "15/15 [==============================] - 1s 92ms/step - loss: 0.3319 - accuracy: 0.8509 - val_loss: 0.4977 - val_accuracy: 0.8000\n",
      "Epoch 4/35\n",
      "15/15 [==============================] - 1s 92ms/step - loss: 0.1922 - accuracy: 0.9386 - val_loss: 0.2364 - val_accuracy: 0.9200\n",
      "Epoch 5/35\n",
      "15/15 [==============================] - 1s 92ms/step - loss: 0.1396 - accuracy: 0.9649 - val_loss: 0.3988 - val_accuracy: 0.8800\n",
      "Epoch 6/35\n",
      "15/15 [==============================] - 1s 92ms/step - loss: 0.0683 - accuracy: 0.9737 - val_loss: 0.2823 - val_accuracy: 0.9200\n",
      "Epoch 7/35\n",
      "15/15 [==============================] - 1s 92ms/step - loss: 0.0129 - accuracy: 0.9956 - val_loss: 0.2869 - val_accuracy: 0.8800\n",
      "Epoch 8/35\n",
      "15/15 [==============================] - 2s 101ms/step - loss: 0.0166 - accuracy: 1.0000 - val_loss: 0.4235 - val_accuracy: 0.8800\n",
      "Epoch 9/35\n",
      "15/15 [==============================] - 2s 117ms/step - loss: 0.0024 - accuracy: 1.0000 - val_loss: 0.5697 - val_accuracy: 0.8800\n",
      "Epoch 10/35\n",
      "15/15 [==============================] - 2s 100ms/step - loss: 3.2592e-04 - accuracy: 1.0000 - val_loss: 0.5298 - val_accuracy: 0.9200\n",
      "Epoch 11/35\n",
      "15/15 [==============================] - 2s 126ms/step - loss: 1.4072e-04 - accuracy: 1.0000 - val_loss: 0.5464 - val_accuracy: 0.9200\n",
      "Epoch 12/35\n",
      "15/15 [==============================] - 2s 147ms/step - loss: 1.8652e-04 - accuracy: 1.0000 - val_loss: 0.6481 - val_accuracy: 0.9200\n",
      "Epoch 13/35\n",
      "15/15 [==============================] - 3s 169ms/step - loss: 3.6267e-05 - accuracy: 1.0000 - val_loss: 0.7024 - val_accuracy: 0.9200\n",
      "Epoch 14/35\n",
      "15/15 [==============================] - 2s 159ms/step - loss: 3.6267e-05 - accuracy: 1.0000 - val_loss: 0.6995 - val_accuracy: 0.9200\n",
      "Epoch 15/35\n",
      "15/15 [==============================] - 5s 353ms/step - loss: 1.4102e-05 - accuracy: 1.0000 - val_loss: 0.7092 - val_accuracy: 0.9200\n",
      "Epoch 16/35\n",
      "15/15 [==============================] - 3s 193ms/step - loss: 1.1248e-05 - accuracy: 1.0000 - val_loss: 0.6943 - val_accuracy: 0.9200\n",
      "Epoch 17/35\n",
      "15/15 [==============================] - 2s 140ms/step - loss: 0.0056 - accuracy: 1.0000 - val_loss: 0.7882 - val_accuracy: 0.9200\n",
      "Epoch 18/35\n",
      "15/15 [==============================] - 2s 156ms/step - loss: 0.0031 - accuracy: 1.0000 - val_loss: 0.4367 - val_accuracy: 0.9200\n",
      "Epoch 19/35\n",
      "15/15 [==============================] - 2s 99ms/step - loss: 0.0024 - accuracy: 1.0000 - val_loss: 1.1176 - val_accuracy: 0.8800\n",
      "Epoch 20/35\n",
      "15/15 [==============================] - 2s 134ms/step - loss: 0.0097 - accuracy: 0.9956 - val_loss: 0.2537 - val_accuracy: 0.9200\n",
      "Epoch 21/35\n",
      "15/15 [==============================] - 2s 100ms/step - loss: 0.0076 - accuracy: 0.9956 - val_loss: 0.6715 - val_accuracy: 0.8800\n",
      "Epoch 22/35\n",
      "15/15 [==============================] - 2s 99ms/step - loss: 4.5589e-04 - accuracy: 1.0000 - val_loss: 0.7205 - val_accuracy: 0.8800\n",
      "Epoch 23/35\n",
      "15/15 [==============================] - 2s 101ms/step - loss: 3.0083e-05 - accuracy: 1.0000 - val_loss: 0.7328 - val_accuracy: 0.9200\n",
      "Epoch 24/35\n",
      "15/15 [==============================] - 2s 98ms/step - loss: 9.7836e-06 - accuracy: 1.0000 - val_loss: 0.7413 - val_accuracy: 0.9200\n",
      "Epoch 25/35\n",
      "15/15 [==============================] - 2s 98ms/step - loss: 1.4368e-04 - accuracy: 1.0000 - val_loss: 0.7414 - val_accuracy: 0.9200\n",
      "Epoch 26/35\n",
      "15/15 [==============================] - 2s 99ms/step - loss: 8.6697e-06 - accuracy: 1.0000 - val_loss: 0.7364 - val_accuracy: 0.9200\n",
      "Epoch 27/35\n",
      "15/15 [==============================] - 2s 108ms/step - loss: 5.4126e-06 - accuracy: 1.0000 - val_loss: 0.7417 - val_accuracy: 0.9200\n",
      "Epoch 28/35\n",
      "15/15 [==============================] - 2s 101ms/step - loss: 4.8232e-06 - accuracy: 1.0000 - val_loss: 0.7457 - val_accuracy: 0.9200\n",
      "Epoch 29/35\n",
      "15/15 [==============================] - 2s 115ms/step - loss: 2.9278e-06 - accuracy: 1.0000 - val_loss: 0.7672 - val_accuracy: 0.9200\n",
      "Epoch 30/35\n",
      "15/15 [==============================] - 2s 104ms/step - loss: 4.3814e-06 - accuracy: 1.0000 - val_loss: 0.7876 - val_accuracy: 0.9200\n",
      "Epoch 31/35\n",
      "15/15 [==============================] - 2s 101ms/step - loss: 4.3357e-06 - accuracy: 1.0000 - val_loss: 0.7958 - val_accuracy: 0.9200\n",
      "Epoch 32/35\n",
      "15/15 [==============================] - 1s 96ms/step - loss: 8.5485e-07 - accuracy: 1.0000 - val_loss: 0.8061 - val_accuracy: 0.9200\n",
      "Epoch 33/35\n",
      "15/15 [==============================] - 2s 119ms/step - loss: 6.6296e-07 - accuracy: 1.0000 - val_loss: 0.8032 - val_accuracy: 0.9200\n",
      "Epoch 34/35\n",
      "15/15 [==============================] - 2s 117ms/step - loss: 1.3907e-06 - accuracy: 1.0000 - val_loss: 0.8120 - val_accuracy: 0.9200\n",
      "Epoch 35/35\n",
      "15/15 [==============================] - 2s 99ms/step - loss: 4.3966e-06 - accuracy: 1.0000 - val_loss: 0.8193 - val_accuracy: 0.9200\n"
     ]
    }
   ],
   "source": [
    "# Train the model\n",
    "history = model.fit(train_ds, validation_data=validation_ds, epochs=EPOCHS)"
   ]
  },
  {
   "cell_type": "code",
   "execution_count": 95,
   "id": "611cdc5f",
   "metadata": {},
   "outputs": [
    {
     "data": {
      "image/png": "[encoded data removed]",
      "text/plain": [
       "<Figure size 576x576 with 1 Axes>"
      ]
     },
     "metadata": {
      "needs_background": "light"
     },
     "output_type": "display_data"
    }
   ],
   "source": [
    "# get the model accuracy and loss\n",
    "accuracy = history.history[\"accuracy\"]\n",
    "\n",
    "# define epochs range\n",
    "epochs_range = range(EPOCHS)\n",
    "\n",
    "\n",
    "# Plot the accuracy\n",
    "plt.figure(figsize=(8, 8))\n",
    "plt.plot(epochs_range, accuracy, label=\"Training Accuracy\")\n",
    "plt.title(\"Training accuracy\")\n",
    "\n",
    "# show\n",
    "plt.show()"
   ]
  },
  {
   "cell_type": "code",
   "execution_count": 96,
   "id": "40ea7085",
   "metadata": {},
   "outputs": [],
   "source": [
    "# save the model\n",
    "model.save(\"model.h5\")"
   ]
  },
  {
   "cell_type": "markdown",
   "id": "6c38ee0e",
   "metadata": {},
   "source": [
    "### Load and use the model"
   ]
  },
  {
   "cell_type": "code",
   "execution_count": 108,
   "id": "7c1e2902",
   "metadata": {},
   "outputs": [],
   "source": [
    "def predict(model, img_path):\n",
    "    \"\"\"\n",
    "    This function will make model to do some predictions\n",
    "    \"\"\"\n",
    "    # load and process the image\n",
    "    img = image.load_img(img_path, target_size=(IMAGE_HEIGHT, IMAGE_WIDTH))\n",
    "    img = img_to_array(img)\n",
    "    img = np.expand_dims(img, axis=0)\n",
    "    \n",
    "    # define the label map\n",
    "    label_map = {\n",
    "        0 : \"No Tumor detected!\",\n",
    "        1 : \"Tumor detected!\"\n",
    "    }\n",
    "    \n",
    "    # make prediction\n",
    "    output = np.argmax(model.predict(img))\n",
    "    prediction = label_map[output]\n",
    "    \n",
    "    return prediction"
   ]
  },
  {
   "cell_type": "code",
   "execution_count": 109,
   "id": "996606d2",
   "metadata": {},
   "outputs": [],
   "source": [
    "# load model\n",
    "model = tf.keras.models.load_model(\"model.h5\")"
   ]
  },
  {
   "cell_type": "code",
   "execution_count": 124,
   "id": "5bf25ea9",
   "metadata": {},
   "outputs": [
    {
     "name": "stdout",
     "output_type": "stream",
     "text": [
      "1/1 [==============================] - 0s 10ms/step\n",
      "Tumor detected!\n"
     ]
    }
   ],
   "source": [
    "img = \"test samples/tumor1.png\"\n",
    "predict_image = predict(model, img)\n",
    "print(predict_image)"
   ]
  },
  {
   "cell_type": "code",
   "execution_count": 130,
   "id": "27bc6f10",
   "metadata": {},
   "outputs": [
    {
     "name": "stdout",
     "output_type": "stream",
     "text": [
      "1/1 [==============================] - 0s 19ms/step\n",
      "Tumor detected!\n"
     ]
    }
   ],
   "source": [
    "img = \"test samples/tumor2.jpg\"\n",
    "predict_image = predict(model, img)\n",
    "print(predict_image)"
   ]
  },
  {
   "cell_type": "code",
   "execution_count": 126,
   "id": "d61fdede",
   "metadata": {},
   "outputs": [
    {
     "name": "stdout",
     "output_type": "stream",
     "text": [
      "1/1 [==============================] - 0s 8ms/step\n",
      "No Tumor detected!\n"
     ]
    }
   ],
   "source": [
    "img = \"test samples/No tumor.jpg\"\n",
    "predict_image = predict(model, img)\n",
    "print(predict_image)"
   ]
  },
  {
   "cell_type": "code",
   "execution_count": 128,
   "id": "8cd810d0",
   "metadata": {},
   "outputs": [
    {
     "name": "stdout",
     "output_type": "stream",
     "text": [
      "1/1 [==============================] - 0s 16ms/step\n",
      "No Tumor detected!\n"
     ]
    }
   ],
   "source": [
    "img = \"test samples/No tumor2.jpg\"\n",
    "predict_image = predict(model, img)\n",
    "print(predict_image)"
   ]
  }
 ],
 "metadata": {
  "kernelspec": {
   "display_name": "Python 3 (ipykernel)",
   "language": "python",
   "name": "python3"
  },
  "language_info": {
   "codemirror_mode": {
    "name": "ipython",
    "version": 3
   },
   "file_extension": ".py",
   "mimetype": "text/x-python",
   "name": "python",
   "nbconvert_exporter": "python",
   "pygments_lexer": "ipython3",
   "version": "3.10.5"
  }
 },
 "nbformat": 4,
 "nbformat_minor": 5
}
